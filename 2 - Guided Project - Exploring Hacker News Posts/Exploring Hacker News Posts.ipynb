{
 "cells": [
  {
   "cell_type": "markdown",
   "id": "6eca6707",
   "metadata": {},
   "source": [
    "# Exploring Hacker News Posts\n",
    "## Guided project - Dataquest\n",
    "\n",
    "\n",
    "*We will work with a dataset of submissions to popular technology site Hacker News.*\n",
    "\n",
    "*Hacker News is a site started by the startup incubator Y Combinator, where user-submitted stories (known as \"posts\") receive votes and comments. \n",
    "Hacker News is extremely popular in technology and startup circles, and posts that make it to the top of the Hacker News listings can get hundreds of thousands of visitors as a result.*"
   ]
  },
  {
   "cell_type": "code",
   "execution_count": 1,
   "id": "04fb3641",
   "metadata": {},
   "outputs": [],
   "source": [
    "#Import dataset\n",
    "\n",
    "from csv import reader\n",
    "open_file = open('HN_posts_year_to_Sep_26_2016.csv', encoding='utf8')\n",
    "read_file = reader(open_file)\n",
    "hn = list(read_file)"
   ]
  },
  {
   "cell_type": "markdown",
   "id": "c7e0fb37",
   "metadata": {},
   "source": [
    "Our study will be about the posts with titles that begin with either **Ask HN** or **Show HN**. \n",
    "Users submit Ask HN posts to ask the Hacker News community a specific question.\n",
    "They submit Show HN posts to show the Hacker News community a project, product, or just something interesting.\n",
    "\n",
    "We will try to answer this two questions:\n",
    "\n",
    "*Do Ask HN or Show HN receive more comments on average?*\n",
    "\n",
    "*Do posts created at a certain time receive more comments on average?*"
   ]
  },
  {
   "cell_type": "code",
   "execution_count": 2,
   "id": "4d841bd7",
   "metadata": {},
   "outputs": [
    {
     "name": "stdout",
     "output_type": "stream",
     "text": [
      "[['id', 'title', 'url', 'num_points', 'num_comments', 'author', 'created_at'], ['12579008', 'You have two days to comment if you want stem cells to be classified as your own', 'http://www.regulations.gov/document?D=FDA-2015-D-3719-0018', '1', '0', 'altstar', '9/26/2016 3:26'], ['12579005', 'SQLAR  the SQLite Archiver', 'https://www.sqlite.org/sqlar/doc/trunk/README.md', '1', '0', 'blacksqr', '9/26/2016 3:24']]\n"
     ]
    }
   ],
   "source": [
    "#Structure of data\n",
    "print(hn[0:3])"
   ]
  },
  {
   "cell_type": "markdown",
   "id": "75815238",
   "metadata": {},
   "source": [
    "- **id:** the unique identifier from Hacker News for the post\n",
    "- **title:** the title of the post\n",
    "- **url:** the URL that the posts links to, if the post has a URL\n",
    "- **num_points:** the number of points the post acquired, calculated as the total number of upvotes minus the total number of downvotes\n",
    "- **num_comments:** the number of comments on the post\n",
    "- **author:** the username of the person who submitted the post\n",
    "- **created_at:** the date and time of the post's submission"
   ]
  },
  {
   "cell_type": "code",
   "execution_count": 3,
   "id": "7bf4f08f",
   "metadata": {},
   "outputs": [
    {
     "name": "stdout",
     "output_type": "stream",
     "text": [
      "Headers: \n",
      " ['id', 'title', 'url', 'num_points', 'num_comments', 'author', 'created_at']\n",
      "Data: \n",
      " [['12579008', 'You have two days to comment if you want stem cells to be classified as your own', 'http://www.regulations.gov/document?D=FDA-2015-D-3719-0018', '1', '0', 'altstar', '9/26/2016 3:26'], ['12579005', 'SQLAR  the SQLite Archiver', 'https://www.sqlite.org/sqlar/doc/trunk/README.md', '1', '0', 'blacksqr', '9/26/2016 3:24'], ['12578997', 'What if we just printed a flatscreen television on the side of our boxes?', 'https://medium.com/vanmoof/our-secrets-out-f21c1f03fdc8#.ietxmez43', '1', '0', 'pavel_lishin', '9/26/2016 3:19'], ['12578989', 'algorithmic music', 'http://cacm.acm.org/magazines/2011/7/109891-algorithmic-composition/fulltext', '1', '0', 'poindontcare', '9/26/2016 3:16'], ['12578979', 'How the Data Vault Enables the Next-Gen Data Warehouse and Data Lake', 'https://www.talend.com/blog/2016/05/12/talend-and-Â\\x93the-data-vaultÂ\\x94', '1', '0', 'markgainor1', '9/26/2016 3:14']]\n"
     ]
    }
   ],
   "source": [
    "#Removing headers\n",
    "\n",
    "headers = hn[0] \n",
    "hn = hn[1:] #data\n",
    "\n",
    "print('Headers: \\n',headers)\n",
    "print('Data: \\n',hn[0:5])"
   ]
  },
  {
   "cell_type": "code",
   "execution_count": 4,
   "id": "ff48a5b3",
   "metadata": {},
   "outputs": [
    {
     "name": "stdout",
     "output_type": "stream",
     "text": [
      "Number of ASK HN posts:  9139\n",
      "Number of SHOW HN posts:  10158\n",
      "Number of other posts:  273822\n"
     ]
    }
   ],
   "source": [
    "#Isolating ASK HN and SHOW HN\n",
    "\n",
    "ask_posts = []\n",
    "show_posts = []\n",
    "other_posts = []\n",
    "\n",
    "for row in hn:\n",
    "    title = row[1]\n",
    "    title = title.lower()\n",
    "    if title.startswith('ask hn'):\n",
    "        ask_posts.append(row)\n",
    "    elif title.startswith('show hn'):\n",
    "        show_posts.append(row)\n",
    "    else:\n",
    "        other_posts.append(row)\n",
    "\n",
    "print('Number of ASK HN posts: ',len(ask_posts))\n",
    "print('Number of SHOW HN posts: ',len(show_posts))\n",
    "print('Number of other posts: ',len(other_posts))"
   ]
  },
  {
   "cell_type": "markdown",
   "id": "9b326650",
   "metadata": {},
   "source": [
    "### Do Ask HN or Show HN receive more comments on average?"
   ]
  },
  {
   "cell_type": "code",
   "execution_count": 5,
   "id": "feae16d0",
   "metadata": {
    "scrolled": true
   },
   "outputs": [
    {
     "name": "stdout",
     "output_type": "stream",
     "text": [
      "Average number of comments on ASK posts:  10\n",
      "Average number of comments on SHOW posts:  5\n"
     ]
    }
   ],
   "source": [
    "#Function to check the number of comments (index=4 in HN dataset) on average given a dataset. \n",
    "def checkComments(dataset,index=4):\n",
    "    total_comments = 0\n",
    "    for row in dataset:\n",
    "        comments = int(row[index])\n",
    "        total_comments += comments\n",
    "    avg = total_comments / len(dataset)\n",
    "    return round(avg)\n",
    "\n",
    "avg_ask_comments = checkComments(ask_posts)\n",
    "avg_show_comments = checkComments(show_posts)\n",
    "\n",
    "print ('Average number of comments on ASK posts: ',avg_ask_comments)\n",
    "print ('Average number of comments on SHOW posts: ',avg_show_comments)"
   ]
  },
  {
   "cell_type": "markdown",
   "id": "18e7a315",
   "metadata": {},
   "source": [
    "On average ASK posts receive more comments than SHOW posts.\n",
    "\n",
    "### Do posts created at a certain time receive more comments on average?"
   ]
  },
  {
   "cell_type": "code",
   "execution_count": 6,
   "id": "ab5d04a5",
   "metadata": {
    "scrolled": true
   },
   "outputs": [
    {
     "name": "stdout",
     "output_type": "stream",
     "text": [
      "Frequency posts/time in ASK posts: \n",
      " {2: 269, 1: 282, 22: 383, 21: 518, 19: 552, 17: 587, 15: 646, 14: 513, 13: 444, 11: 312, 10: 282, 9: 222, 7: 226, 3: 271, 23: 343, 20: 510, 16: 579, 8: 257, 0: 301, 18: 614, 12: 342, 4: 243, 6: 234, 5: 209}\n",
      "Frequency posts/time in SHOW posts: \n",
      " {0: 276, 23: 319, 20: 525, 19: 556, 18: 656, 16: 801, 14: 696, 10: 323, 9: 302, 8: 316, 6: 192, 3: 206, 21: 430, 17: 761, 15: 836, 11: 402, 7: 236, 4: 194, 13: 610, 12: 516, 1: 247, 22: 377, 2: 209, 5: 172}\n"
     ]
    }
   ],
   "source": [
    "#import datetime module\n",
    "import datetime as dt\n",
    "\n",
    "#Calculate the number of posts created in each hour of the day, along with the number of comments received.\n",
    "\n",
    "def checkFreqTime (dataset):\n",
    "    freq_time={}\n",
    "    for row in dataset:\n",
    "        date_str = row[6] #Ex: '9/26/2016 3:24'\n",
    "        date_dt = dt.datetime.strptime(date_str, \"%m/%d/%Y %H:%M\")\n",
    "        hour_dt = date_dt.hour\n",
    "        if hour_dt in freq_time:\n",
    "            freq_time[hour_dt] += 1\n",
    "        else:\n",
    "            freq_time[hour_dt] = 1\n",
    "    return freq_time\n",
    "\n",
    "ask_posts_freq_time = checkFreqTime (ask_posts)\n",
    "show_posts_freq_time = checkFreqTime (show_posts)\n",
    "print ('Frequency posts/time in ASK posts: \\n',ask_posts_freq_time)\n",
    "print ('Frequency posts/time in SHOW posts: \\n',show_posts_freq_time)"
   ]
  },
  {
   "cell_type": "markdown",
   "id": "7e479516",
   "metadata": {},
   "source": [
    "We can see that 15:00 is the hour with more posts created in both ASK (646) and SHOW Posts (836). We also observe a big number of posts at 19:00, 18:00, 17:00, 16:00 and 14:00 (above 500 posts)."
   ]
  },
  {
   "cell_type": "code",
   "execution_count": 7,
   "id": "61596930",
   "metadata": {},
   "outputs": [
    {
     "name": "stdout",
     "output_type": "stream",
     "text": [
      "Frequency comments/time in ASK posts: \n",
      " {2: 2996, 1: 2089, 22: 3372, 21: 4500, 19: 3954, 17: 5547, 15: 18525, 14: 4972, 13: 7245, 11: 2797, 10: 3013, 9: 1477, 7: 1585, 3: 2154, 23: 2297, 20: 4462, 16: 4466, 8: 2362, 0: 2277, 18: 4877, 12: 4234, 4: 2360, 6: 1587, 5: 1838}\n",
      "Frequency comments/time in SHOW posts: \n",
      " {0: 1283, 23: 1444, 20: 2183, 19: 2791, 18: 3242, 16: 3769, 14: 3839, 10: 1228, 9: 1411, 8: 1771, 6: 904, 3: 934, 21: 1759, 17: 3236, 15: 3824, 11: 2413, 7: 1577, 4: 978, 13: 3314, 12: 3609, 1: 1006, 22: 1450, 2: 1076, 5: 592}\n"
     ]
    }
   ],
   "source": [
    "#Calculate the number of comments in each hour of the day, along with the number of comments received.\n",
    "def checkCommentsTime (dataset):\n",
    "    freq_time={}\n",
    "    for row in dataset:\n",
    "        date_str = row[6] #Ex: '9/26/2016 3:24'\n",
    "        date_dt = dt.datetime.strptime(date_str, \"%m/%d/%Y %H:%M\")\n",
    "        hour_dt = date_dt.hour\n",
    "        comments = int(row[4])\n",
    "        if hour_dt in freq_time:\n",
    "            freq_time[hour_dt] += comments\n",
    "        else:\n",
    "            freq_time[hour_dt] = comments\n",
    "    return freq_time\n",
    "\n",
    "ask_posts_comments_time = checkCommentsTime (ask_posts)\n",
    "show_posts_comments_time = checkCommentsTime (show_posts)\n",
    "print ('Frequency comments/time in ASK posts: \\n', ask_posts_comments_time)\n",
    "print ('Frequency comments/time in SHOW posts: \\n',show_posts_comments_time)"
   ]
  },
  {
   "cell_type": "markdown",
   "id": "a2bcd9a1",
   "metadata": {},
   "source": [
    "We are going to check the same results in %:\n"
   ]
  },
  {
   "cell_type": "code",
   "execution_count": 8,
   "id": "6f6365d0",
   "metadata": {},
   "outputs": [
    {
     "name": "stdout",
     "output_type": "stream",
     "text": [
      "% for ASK posts: \n",
      " [['2', 2.94], ['1', 3.09], ['22', 4.19], ['21', 5.67], ['19', 6.04], ['17', 6.42], ['15', 7.07], ['14', 5.61], ['13', 4.86], ['11', 3.41], ['10', 3.09], ['9', 2.43], ['7', 2.47], ['3', 2.97], ['23', 3.75], ['20', 5.58], ['16', 6.34], ['8', 2.81], ['0', 3.29], ['18', 6.72], ['12', 3.74], ['4', 2.66], ['6', 2.56], ['5', 2.29]]\n",
      "% for SHOW posts: \n",
      " [['0', 2.72], ['23', 3.14], ['20', 5.17], ['19', 5.47], ['18', 6.46], ['16', 7.89], ['14', 6.85], ['10', 3.18], ['9', 2.97], ['8', 3.11], ['6', 1.89], ['3', 2.03], ['21', 4.23], ['17', 7.49], ['15', 8.23], ['11', 3.96], ['7', 2.32], ['4', 1.91], ['13', 6.01], ['12', 5.08], ['1', 2.43], ['22', 3.71], ['2', 2.06], ['5', 1.69]]\n",
      "% for ASK comments: \n",
      " [['2', 3.15], ['1', 2.2], ['22', 3.55], ['21', 4.74], ['19', 4.16], ['17', 5.84], ['15', 19.5], ['14', 5.23], ['13', 7.63], ['11', 2.94], ['10', 3.17], ['9', 1.55], ['7', 1.67], ['3', 2.27], ['23', 2.42], ['20', 4.7], ['16', 4.7], ['8', 2.49], ['0', 2.4], ['18', 5.13], ['12', 4.46], ['4', 2.48], ['6', 1.67], ['5', 1.94]]\n",
      "% for SHOW comments: \n",
      " [['0', 2.58], ['23', 2.91], ['20', 4.4], ['19', 5.62], ['18', 6.53], ['16', 7.59], ['14', 7.73], ['10', 2.47], ['9', 2.84], ['8', 3.57], ['6', 1.82], ['3', 1.88], ['21', 3.54], ['17', 6.52], ['15', 7.7], ['11', 4.86], ['7', 3.18], ['4', 1.97], ['13', 6.68], ['12', 7.27], ['1', 2.03], ['22', 2.92], ['2', 2.17], ['5', 1.19]]\n"
     ]
    }
   ],
   "source": [
    "def seePerc (dataset):\n",
    "    listPerc = []\n",
    "    sumTotal = 0\n",
    "    for i in dataset:\n",
    "        sumTotal += dataset[i]\n",
    "        \n",
    "    for i in dataset:\n",
    "        listPerc.append([str(i),round(100*dataset[i]/sumTotal,2)])\n",
    "        \n",
    "    return listPerc\n",
    "\n",
    "ask_posts_freq_perc = seePerc(ask_posts_freq_time)\n",
    "show_posts_freq_perc = seePerc(show_posts_freq_time)\n",
    "ask_posts_comments_perc = seePerc(ask_posts_comments_time)\n",
    "show_posts_comments_perc = seePerc(show_posts_comments_time)\n",
    "\n",
    "print('% for ASK posts: \\n',ask_posts_freq_perc)\n",
    "print ('% for SHOW posts: \\n',show_posts_freq_perc)\n",
    "print('% for ASK comments: \\n',ask_posts_comments_perc)\n",
    "print ('% for SHOW comments: \\n',show_posts_comments_perc)\n",
    "        "
   ]
  },
  {
   "cell_type": "markdown",
   "id": "24d1faba",
   "metadata": {},
   "source": [
    "For ASK posts it was detected a big number of comments at 15:00 (19.5%) and 13:00 (7.63%)\n",
    "For SHOW posts, comments are more concentrated at 14:00 (7.73%) and 15:00 (7.7%)\n",
    "Afternoon and evening are the moment prefered by users."
   ]
  },
  {
   "cell_type": "markdown",
   "id": "01173147",
   "metadata": {},
   "source": [
    "### Do posts created at a certain time receive more comments on average?"
   ]
  },
  {
   "cell_type": "code",
   "execution_count": 10,
   "id": "91a886ea",
   "metadata": {
    "scrolled": true
   },
   "outputs": [
    {
     "name": "stdout",
     "output_type": "stream",
     "text": [
      "Average comments/time in ASK posts: \n",
      " {2: 15.6, 1: 10.39, 22: 14.41, 21: 16.36, 19: 13.45, 17: 19.19, 15: 61.75, 14: 17.88, 13: 28.41, 11: 13.38, 10: 15.29, 9: 8.64, 7: 9.27, 3: 10.99, 23: 10.54, 20: 16.23, 16: 15.4, 8: 12.91, 0: 10.89, 18: 16.2, 12: 19.16, 4: 13.11, 6: 9.17, 5: 11.94}\n",
      "Average comments/time in SHOW posts: \n",
      " {0: 6.61, 23: 6.81, 20: 7.38, 19: 9.43, 18: 10.84, 16: 11.93, 14: 12.59, 10: 5.66, 9: 7.13, 8: 8.56, 6: 5.91, 3: 6.19, 21: 6.9, 17: 10.27, 15: 11.62, 11: 10.31, 7: 9.22, 4: 6.99, 13: 11.31, 12: 13.42, 1: 5.82, 22: 5.99, 2: 6.9, 5: 4.45}\n"
     ]
    }
   ],
   "source": [
    "#Calculate the average number of comments posts receive by hour created.\n",
    "#Must separate in different days --> total comments per hour / total number of dates\n",
    "\n",
    "def checkAvgTime (dataset,freqTime):\n",
    "    freq_avg = {}\n",
    "    for h in freqTime:\n",
    "        freq_dates = {}\n",
    "        for row in dataset:\n",
    "            date_str = row[6] #Ex: '9/26/2016 3:24'\n",
    "            date_dt = dt.datetime.strptime(date_str, \"%m/%d/%Y %H:%M\")\n",
    "            hour_dt = date_dt.hour\n",
    "            date_dt = date_dt.date()\n",
    "            if h == hour_dt:\n",
    "                if date_dt not in freq_dates:\n",
    "                    freq_dates[date_dt] = 1  \n",
    "        avg_hour = round(freqTime[h] / len(freq_dates),2)\n",
    "        freq_avg[h] = avg_hour\n",
    "    return freq_avg\n",
    "\n",
    "ask_comments_avg_time = checkAvgTime(ask_posts, ask_posts_comments_time)\n",
    "show_comments_avg_time = checkAvgTime(show_posts, show_posts_comments_time)\n",
    "print ('Average comments/time in ASK posts: \\n',ask_comments_avg_time)\n",
    "print ('Average comments/time in SHOW posts: \\n',show_comments_avg_time)                    \n",
    "    "
   ]
  },
  {
   "cell_type": "code",
   "execution_count": 24,
   "id": "0f2eeeed",
   "metadata": {},
   "outputs": [
    {
     "name": "stdout",
     "output_type": "stream",
     "text": [
      "Average comments / hour in ASK posts: \n",
      " ['15:00 61.75 average comments per post', '13:00 28.41 average comments per post', '17:00 19.19 average comments per post', '12:00 19.16 average comments per post', '14:00 17.88 average comments per post', '21:00 16.36 average comments per post', '20:00 16.23 average comments per post', '18:00 16.2 average comments per post', '2:00 15.6 average comments per post', '16:00 15.4 average comments per post', '10:00 15.29 average comments per post', '22:00 14.41 average comments per post', '19:00 13.45 average comments per post', '11:00 13.38 average comments per post', '4:00 13.11 average comments per post', '8:00 12.91 average comments per post', '5:00 11.94 average comments per post', '3:00 10.99 average comments per post', '0:00 10.89 average comments per post', '23:00 10.54 average comments per post', '1:00 10.39 average comments per post', '7:00 9.27 average comments per post', '6:00 9.17 average comments per post', '9:00 8.64 average comments per post']\n",
      "Average comments / hour in SHOW posts: \n",
      " ['12:00 13.42 average comments per post', '14:00 12.59 average comments per post', '16:00 11.93 average comments per post', '15:00 11.62 average comments per post', '13:00 11.31 average comments per post', '18:00 10.84 average comments per post', '11:00 10.31 average comments per post', '17:00 10.27 average comments per post', '19:00 9.43 average comments per post', '7:00 9.22 average comments per post', '8:00 8.56 average comments per post', '20:00 7.38 average comments per post', '9:00 7.13 average comments per post', '4:00 6.99 average comments per post', '21:00 6.9 average comments per post', '2:00 6.9 average comments per post', '23:00 6.81 average comments per post', '0:00 6.61 average comments per post', '3:00 6.19 average comments per post', '22:00 5.99 average comments per post', '6:00 5.91 average comments per post', '1:00 5.82 average comments per post', '10:00 5.66 average comments per post', '5:00 4.45 average comments per post']\n"
     ]
    }
   ],
   "source": [
    "#We are going to sorted last data to a better understanding\n",
    "\n",
    "def sortData (dataset):\n",
    "    orderList = []\n",
    "    template = \"{hour}:00 {comments} average comments per post\"\n",
    "    \n",
    "    for row in dataset:\n",
    "        orderList.append([dataset[row],row])\n",
    "        \n",
    "    orderList = sorted(orderList, reverse=True)\n",
    "     \n",
    "    textList = []\n",
    "    for element in orderList:\n",
    "        text = template.format(hour=element[1],comments=element[0])\n",
    "        textList.append(text)\n",
    "      \n",
    "    return textList\n",
    "\n",
    "ask_comments_avg_time_sorted = sortData (ask_comments_avg_time)\n",
    "show_comments_avg_time_sorted = sortData (show_comments_avg_time)\n",
    "\n",
    "print('Average comments / hour in ASK posts: \\n', ask_comments_avg_time_sorted)\n",
    "print('Average comments / hour in SHOW posts: \\n', show_comments_avg_time_sorted)"
   ]
  },
  {
   "cell_type": "markdown",
   "id": "2e7ae05a",
   "metadata": {},
   "source": [
    "On average the distribution of comments have a maximun at 15:00 in ASK posts and at 12:00 in SHOW posts. Afternoons and evenings have more comments on average.\n",
    "\n",
    "The difference among hours is more visible in ASK posts while in SHOW posts the hours with more comments have a similar distribution."
   ]
  }
 ],
 "metadata": {
  "kernelspec": {
   "display_name": "Python 3 (ipykernel)",
   "language": "python",
   "name": "python3"
  },
  "language_info": {
   "codemirror_mode": {
    "name": "ipython",
    "version": 3
   },
   "file_extension": ".py",
   "mimetype": "text/x-python",
   "name": "python",
   "nbconvert_exporter": "python",
   "pygments_lexer": "ipython3",
   "version": "3.9.12"
  }
 },
 "nbformat": 4,
 "nbformat_minor": 5
}
