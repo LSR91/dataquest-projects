{
 "cells": [
  {
   "cell_type": "markdown",
   "id": "99b50be9",
   "metadata": {},
   "source": [
    "## Analyzing NYC High School Data\n",
    "###  Guided Project - Dataquest\n",
    "\n",
    "The SAT, or Scholastic Aptitude Test, is a test that high school seniors in the U.S. take every year. The SAT has three sections, each is worth 800 points. Colleges use the SAT to determine which students to admit. High average SAT scores are usually indicative of a good school.\n",
    "\n",
    "New York City has published data on student SAT scores by high school, along with additional demographic datasets. \n",
    "\n",
    "- **[SAT scores by school](https://data.cityofnewyork.us/Education/2012-SAT-Results/f9bf-2cp4):** SAT scores for each high school in New York City\n",
    "- **[School attendance](https://data.cityofnewyork.us/Education/2010-2011-School-Attendance-and-Enrollment-Statist/7z8d-msnt):** Attendance information for each school in New York City\n",
    "- **[Class size](https://data.cityofnewyork.us/Education/2010-2011-Class-Size-School-level-detail/urz7-pzb3):** Information on class size for each school\n",
    "- **[AP test results](https://data.cityofnewyork.us/Education/2010-AP-College-Board-School-Level-Results/itfs-ms3e):** Advanced Placement (AP) exam results for each high school (passing an optional AP exam in a particular subject can earn a student college credit in that subject)\n",
    "- **[Graduation outcomes](https://data.cityofnewyork.us/Education/2005-2010-Graduation-Outcomes-School-Level/vh2h-md7a):** The percentage of students who graduated and other outcome information\n",
    "- **[Demographics](https://data.cityofnewyork.us/Education/2006-2012-School-Demographics-and-Accountability-S/ihfw-zy9j):** Demographic information for each school\n",
    "- **[School survey](https://data.cityofnewyork.us/Education/2011-NYC-School-Survey/mnz3-dyi8):** Surveys of parents, teachers, and students at each school\n",
    "\n",
    "New York City has a significant immigrant population and is very diverse, so comparing demographic factors such as race, income and gender with SAT scores is a good way to determine whether the SAT is a fair test. For example, if certain racial groups consistently perform better on the SAT, we would have some evidence that the SAT is unfair.\n",
    "\n",
    "Previously, we did perform some analysis and we are going to work with a combined and clean dataframe.\n",
    "\n",
    "### Reading in data & surveys"
   ]
  },
  {
   "cell_type": "code",
   "execution_count": 1,
   "id": "1876e5ad",
   "metadata": {},
   "outputs": [],
   "source": [
    "import pandas as pd\n",
    "import numpy as np\n",
    "import re\n",
    "\n",
    "data_files = [\n",
    "    \"ap_2010.csv\",\n",
    "    \"class_size.csv\",\n",
    "    \"demographics.csv\",\n",
    "    \"graduation.csv\",\n",
    "    \"hs_directory.csv\",\n",
    "    \"sat_results.csv\"\n",
    "]\n",
    "\n",
    "data = {}\n",
    "\n",
    "for f in data_files:\n",
    "    data[f[:-4]] = pd.read_csv(\"schools/{0}\".format(f))"
   ]
  },
  {
   "cell_type": "code",
   "execution_count": 2,
   "id": "69473b4f",
   "metadata": {},
   "outputs": [
    {
     "name": "stdout",
     "output_type": "stream",
     "text": [
      "\n",
      " ap_2010\n",
      "<class 'pandas.core.frame.DataFrame'>\n",
      "RangeIndex: 258 entries, 0 to 257\n",
      "Data columns (total 5 columns):\n",
      " #   Column                                Non-Null Count  Dtype \n",
      "---  ------                                --------------  ----- \n",
      " 0   DBN                                   258 non-null    object\n",
      " 1   SchoolName                            258 non-null    object\n",
      " 2   AP Test Takers                        258 non-null    object\n",
      " 3   Total Exams Taken                     258 non-null    object\n",
      " 4   Number of Exams with scores 3 4 or 5  258 non-null    object\n",
      "dtypes: object(5)\n",
      "memory usage: 10.2+ KB\n",
      "None\n",
      "\n",
      " class_size\n",
      "<class 'pandas.core.frame.DataFrame'>\n",
      "RangeIndex: 27611 entries, 0 to 27610\n",
      "Data columns (total 16 columns):\n",
      " #   Column                                Non-Null Count  Dtype  \n",
      "---  ------                                --------------  -----  \n",
      " 0   CSD                                   27611 non-null  int64  \n",
      " 1   BOROUGH                               27611 non-null  object \n",
      " 2   SCHOOL CODE                           27611 non-null  object \n",
      " 3   SCHOOL NAME                           27611 non-null  object \n",
      " 4   GRADE                                 26127 non-null  object \n",
      " 5   PROGRAM TYPE                          26127 non-null  object \n",
      " 6   CORE SUBJECT (MS CORE and 9-12 ONLY)  26127 non-null  object \n",
      " 7   CORE COURSE (MS CORE and 9-12 ONLY)   26127 non-null  object \n",
      " 8   SERVICE CATEGORY(K-9* ONLY)           26127 non-null  object \n",
      " 9   NUMBER OF STUDENTS / SEATS FILLED     26127 non-null  float64\n",
      " 10  NUMBER OF SECTIONS                    26127 non-null  float64\n",
      " 11  AVERAGE CLASS SIZE                    26127 non-null  float64\n",
      " 12  SIZE OF SMALLEST CLASS                26127 non-null  float64\n",
      " 13  SIZE OF LARGEST CLASS                 26127 non-null  float64\n",
      " 14  DATA SOURCE                           26127 non-null  object \n",
      " 15  SCHOOLWIDE PUPIL-TEACHER RATIO        1484 non-null   float64\n",
      "dtypes: float64(6), int64(1), object(9)\n",
      "memory usage: 3.4+ MB\n",
      "None\n",
      "\n",
      " demographics\n",
      "<class 'pandas.core.frame.DataFrame'>\n",
      "RangeIndex: 10075 entries, 0 to 10074\n",
      "Data columns (total 38 columns):\n",
      " #   Column             Non-Null Count  Dtype  \n",
      "---  ------             --------------  -----  \n",
      " 0   DBN                10075 non-null  object \n",
      " 1   Name               10075 non-null  object \n",
      " 2   schoolyear         10075 non-null  int64  \n",
      " 3   fl_percent         8560 non-null   object \n",
      " 4   frl_percent        4482 non-null   float64\n",
      " 5   total_enrollment   10075 non-null  int64  \n",
      " 6   prek               4712 non-null   object \n",
      " 7   k                  5882 non-null   object \n",
      " 8   grade1             5881 non-null   object \n",
      " 9   grade2             5851 non-null   object \n",
      " 10  grade3             5779 non-null   object \n",
      " 11  grade4             5741 non-null   object \n",
      " 12  grade5             5777 non-null   object \n",
      " 13  grade6             4517 non-null   object \n",
      " 14  grade7             4203 non-null   object \n",
      " 15  grade8             4085 non-null   object \n",
      " 16  grade9             3974 non-null   object \n",
      " 17  grade10            3846 non-null   object \n",
      " 18  grade11            3674 non-null   object \n",
      " 19  grade12            3513 non-null   object \n",
      " 20  ell_num            9885 non-null   float64\n",
      " 21  ell_percent        9963 non-null   float64\n",
      " 22  sped_num           9985 non-null   float64\n",
      " 23  sped_percent       10075 non-null  float64\n",
      " 24  ctt_num            8678 non-null   object \n",
      " 25  selfcontained_num  9075 non-null   object \n",
      " 26  asian_num          10075 non-null  int64  \n",
      " 27  asian_per          10075 non-null  float64\n",
      " 28  black_num          10075 non-null  int64  \n",
      " 29  black_per          10075 non-null  float64\n",
      " 30  hispanic_num       10075 non-null  int64  \n",
      " 31  hispanic_per       10075 non-null  float64\n",
      " 32  white_num          10075 non-null  int64  \n",
      " 33  white_per          10075 non-null  float64\n",
      " 34  male_num           10034 non-null  float64\n",
      " 35  male_per           10075 non-null  float64\n",
      " 36  female_num         10051 non-null  float64\n",
      " 37  female_per         10075 non-null  float64\n",
      "dtypes: float64(13), int64(6), object(19)\n",
      "memory usage: 2.9+ MB\n",
      "None\n",
      "\n",
      " graduation\n",
      "<class 'pandas.core.frame.DataFrame'>\n",
      "RangeIndex: 25096 entries, 0 to 25095\n",
      "Data columns (total 23 columns):\n",
      " #   Column                              Non-Null Count  Dtype \n",
      "---  ------                              --------------  ----- \n",
      " 0   Demographic                         25096 non-null  object\n",
      " 1   DBN                                 25096 non-null  object\n",
      " 2   School Name                         25096 non-null  object\n",
      " 3   Cohort                              25096 non-null  object\n",
      " 4   Total Cohort                        25096 non-null  int64 \n",
      " 5   Total Grads - n                     25096 non-null  object\n",
      " 6   Total Grads - % of cohort           25096 non-null  object\n",
      " 7   Total Regents - n                   25096 non-null  object\n",
      " 8   Total Regents - % of cohort         25096 non-null  object\n",
      " 9   Total Regents - % of grads          25051 non-null  object\n",
      " 10  Advanced Regents - n                25096 non-null  object\n",
      " 11  Advanced Regents - % of cohort      25096 non-null  object\n",
      " 12  Advanced Regents - % of grads       25051 non-null  object\n",
      " 13  Regents w/o Advanced - n            25096 non-null  object\n",
      " 14  Regents w/o Advanced - % of cohort  25096 non-null  object\n",
      " 15  Regents w/o Advanced - % of grads   25051 non-null  object\n",
      " 16  Local - n                           25096 non-null  object\n",
      " 17  Local - % of cohort                 25096 non-null  object\n",
      " 18  Local - % of grads                  25051 non-null  object\n",
      " 19  Still Enrolled - n                  25096 non-null  object\n",
      " 20  Still Enrolled - % of cohort        25096 non-null  object\n",
      " 21  Dropped Out - n                     25096 non-null  object\n",
      " 22  Dropped Out - % of cohort           25096 non-null  object\n",
      "dtypes: int64(1), object(22)\n",
      "memory usage: 4.4+ MB\n",
      "None\n",
      "\n",
      " hs_directory\n",
      "<class 'pandas.core.frame.DataFrame'>\n",
      "RangeIndex: 435 entries, 0 to 434\n",
      "Data columns (total 58 columns):\n",
      " #   Column                            Non-Null Count  Dtype  \n",
      "---  ------                            --------------  -----  \n",
      " 0   dbn                               435 non-null    object \n",
      " 1   school_name                       435 non-null    object \n",
      " 2   boro                              435 non-null    object \n",
      " 3   building_code                     435 non-null    object \n",
      " 4   phone_number                      435 non-null    object \n",
      " 5   fax_number                        423 non-null    object \n",
      " 6   grade_span_min                    435 non-null    object \n",
      " 7   grade_span_max                    435 non-null    int64  \n",
      " 8   expgrade_span_min                 33 non-null     object \n",
      " 9   expgrade_span_max                 33 non-null     float64\n",
      " 10  bus                               434 non-null    object \n",
      " 11  subway                            358 non-null    object \n",
      " 12  primary_address_line_1            435 non-null    object \n",
      " 13  city                              435 non-null    object \n",
      " 14  state_code                        435 non-null    object \n",
      " 15  zip                               435 non-null    int64  \n",
      " 16  website                           430 non-null    object \n",
      " 17  total_students                    426 non-null    float64\n",
      " 18  campus_name                       217 non-null    object \n",
      " 19  school_type                       104 non-null    object \n",
      " 20  overview_paragraph                434 non-null    object \n",
      " 21  program_highlights                434 non-null    object \n",
      " 22  language_classes                  412 non-null    object \n",
      " 23  advancedplacement_courses         340 non-null    object \n",
      " 24  online_ap_courses                 64 non-null     object \n",
      " 25  online_language_courses           73 non-null     object \n",
      " 26  extracurricular_activities        435 non-null    object \n",
      " 27  psal_sports_boys                  380 non-null    object \n",
      " 28  psal_sports_girls                 373 non-null    object \n",
      " 29  psal_sports_coed                  147 non-null    object \n",
      " 30  school_sports                     297 non-null    object \n",
      " 31  partner_cbo                       354 non-null    object \n",
      " 32  partner_hospital                  196 non-null    object \n",
      " 33  partner_highered                  378 non-null    object \n",
      " 34  partner_cultural                  305 non-null    object \n",
      " 35  partner_nonprofit                 297 non-null    object \n",
      " 36  partner_corporate                 198 non-null    object \n",
      " 37  partner_financial                 72 non-null     object \n",
      " 38  partner_other                     188 non-null    object \n",
      " 39  addtl_info1                       354 non-null    object \n",
      " 40  addtl_info2                       229 non-null    object \n",
      " 41  start_time                        431 non-null    object \n",
      " 42  end_time                          431 non-null    object \n",
      " 43  se_services                       435 non-null    object \n",
      " 44  ell_programs                      435 non-null    object \n",
      " 45  school_accessibility_description  435 non-null    object \n",
      " 46  number_programs                   435 non-null    int64  \n",
      " 47  priority01                        435 non-null    object \n",
      " 48  priority02                        352 non-null    object \n",
      " 49  priority03                        243 non-null    object \n",
      " 50  priority04                        177 non-null    object \n",
      " 51  priority05                        39 non-null     object \n",
      " 52  priority06                        17 non-null     object \n",
      " 53  priority07                        4 non-null      object \n",
      " 54  priority08                        1 non-null      object \n",
      " 55  priority09                        1 non-null      object \n",
      " 56  priority10                        1 non-null      object \n",
      " 57  Location 1                        435 non-null    object \n",
      "dtypes: float64(2), int64(3), object(53)\n",
      "memory usage: 197.2+ KB\n",
      "None\n",
      "\n",
      " sat_results\n",
      "<class 'pandas.core.frame.DataFrame'>\n",
      "RangeIndex: 478 entries, 0 to 477\n",
      "Data columns (total 6 columns):\n",
      " #   Column                           Non-Null Count  Dtype \n",
      "---  ------                           --------------  ----- \n",
      " 0   DBN                              478 non-null    object\n",
      " 1   SCHOOL NAME                      478 non-null    object\n",
      " 2   Num of SAT Test Takers           478 non-null    object\n",
      " 3   SAT Critical Reading Avg. Score  478 non-null    object\n",
      " 4   SAT Math Avg. Score              478 non-null    object\n",
      " 5   SAT Writing Avg. Score           478 non-null    object\n",
      "dtypes: object(6)\n",
      "memory usage: 22.5+ KB\n",
      "None\n"
     ]
    }
   ],
   "source": [
    "for d in data:\n",
    "    print('\\n',d)\n",
    "    print(data[d].info())"
   ]
  },
  {
   "cell_type": "code",
   "execution_count": 3,
   "id": "269d4e0e",
   "metadata": {},
   "outputs": [
    {
     "name": "stderr",
     "output_type": "stream",
     "text": [
      "C:\\Users\\laura\\AppData\\Local\\Temp\\ipykernel_24856\\3674931809.py:5: PerformanceWarning: DataFrame is highly fragmented.  This is usually the result of calling `frame.insert` many times, which has poor performance.  Consider joining all columns at once using pd.concat(axis=1) instead. To get a de-fragmented frame, use `newframe = frame.copy()`\n",
      "  survey[\"DBN\"] = survey[\"dbn\"]\n"
     ]
    }
   ],
   "source": [
    "all_survey = pd.read_csv(\"schools/survey_all.txt\", delimiter=\"\\t\", encoding='windows-1252')\n",
    "d75_survey = pd.read_csv(\"schools/survey_d75.txt\", delimiter=\"\\t\", encoding='windows-1252')\n",
    "survey = pd.concat([all_survey, d75_survey], axis=0)\n",
    "\n",
    "survey[\"DBN\"] = survey[\"dbn\"]\n",
    "\n",
    "survey_fields = [\n",
    "    \"DBN\", \n",
    "    \"rr_s\", \n",
    "    \"rr_t\", \n",
    "    \"rr_p\", \n",
    "    \"N_s\", \n",
    "    \"N_t\", \n",
    "    \"N_p\", \n",
    "    \"saf_p_11\", \n",
    "    \"com_p_11\", \n",
    "    \"eng_p_11\", \n",
    "    \"aca_p_11\", \n",
    "    \"saf_t_11\", \n",
    "    \"com_t_11\", \n",
    "    \"eng_t_11\", \n",
    "    \"aca_t_11\", \n",
    "    \"saf_s_11\", \n",
    "    \"com_s_11\", \n",
    "    \"eng_s_11\", \n",
    "    \"aca_s_11\", \n",
    "    \"saf_tot_11\", \n",
    "    \"com_tot_11\", \n",
    "    \"eng_tot_11\", \n",
    "    \"aca_tot_11\",\n",
    "]\n",
    "survey = survey.loc[:,survey_fields]\n",
    "data[\"survey\"] = survey"
   ]
  },
  {
   "cell_type": "code",
   "execution_count": 4,
   "id": "a6af9399",
   "metadata": {},
   "outputs": [
    {
     "name": "stdout",
     "output_type": "stream",
     "text": [
      "<class 'pandas.core.frame.DataFrame'>\n",
      "Int64Index: 1702 entries, 0 to 55\n",
      "Data columns (total 23 columns):\n",
      " #   Column      Non-Null Count  Dtype  \n",
      "---  ------      --------------  -----  \n",
      " 0   DBN         1702 non-null   object \n",
      " 1   rr_s        1041 non-null   float64\n",
      " 2   rr_t        1702 non-null   int64  \n",
      " 3   rr_p        1702 non-null   int64  \n",
      " 4   N_s         1036 non-null   float64\n",
      " 5   N_t         1700 non-null   float64\n",
      " 6   N_p         1696 non-null   float64\n",
      " 7   saf_p_11    1696 non-null   float64\n",
      " 8   com_p_11    1696 non-null   float64\n",
      " 9   eng_p_11    1696 non-null   float64\n",
      " 10  aca_p_11    1696 non-null   float64\n",
      " 11  saf_t_11    1700 non-null   float64\n",
      " 12  com_t_11    1700 non-null   float64\n",
      " 13  eng_t_11    1700 non-null   float64\n",
      " 14  aca_t_11    1700 non-null   float64\n",
      " 15  saf_s_11    1036 non-null   float64\n",
      " 16  com_s_11    1036 non-null   float64\n",
      " 17  eng_s_11    1036 non-null   float64\n",
      " 18  aca_s_11    1036 non-null   float64\n",
      " 19  saf_tot_11  1702 non-null   float64\n",
      " 20  com_tot_11  1702 non-null   float64\n",
      " 21  eng_tot_11  1702 non-null   float64\n",
      " 22  aca_tot_11  1702 non-null   float64\n",
      "dtypes: float64(20), int64(2), object(1)\n",
      "memory usage: 319.1+ KB\n"
     ]
    }
   ],
   "source": [
    "survey.info()"
   ]
  },
  {
   "cell_type": "markdown",
   "id": "c42c67d2",
   "metadata": {},
   "source": [
    "### DBN columns as unique values\n",
    "\n",
    "All our dataframes will have a DBN column. We need to perform some changes in hs_directory (from 'dbn' to 'DBN') and create the 'DBN' column in class_size (CSD + SCHOOL CODE)"
   ]
  },
  {
   "cell_type": "code",
   "execution_count": 5,
   "id": "8057df6f",
   "metadata": {},
   "outputs": [],
   "source": [
    "data[\"hs_directory\"][\"DBN\"] = data[\"hs_directory\"][\"dbn\"]\n",
    "\n",
    "def pad_csd(num):\n",
    "    str_num = str(num)\n",
    "    if len(str_num) > 1:\n",
    "        return str_num\n",
    "    else:\n",
    "        return \"0\" + str_num\n",
    "    \n",
    "data[\"class_size\"][\"padded_csd\"] = data[\"class_size\"][\"CSD\"].apply(pad_csd)\n",
    "data[\"class_size\"][\"DBN\"] = data[\"class_size\"][\"padded_csd\"] + data[\"class_size\"][\"SCHOOL CODE\"]"
   ]
  },
  {
   "cell_type": "markdown",
   "id": "69b8abe9",
   "metadata": {},
   "source": [
    "### Convert columns to numeric\n",
    "\n",
    "We are going to transform into numeric data all the scores in sat_results, the latitude and longitude of the school in hs_directory and the information of ap_2010."
   ]
  },
  {
   "cell_type": "code",
   "execution_count": 6,
   "id": "97254ed1",
   "metadata": {},
   "outputs": [],
   "source": [
    "cols = ['SAT Math Avg. Score', 'SAT Critical Reading Avg. Score', 'SAT Writing Avg. Score']\n",
    "for c in cols:\n",
    "    data[\"sat_results\"][c] = pd.to_numeric(data[\"sat_results\"][c], errors=\"coerce\")\n",
    "\n",
    "#data['sat_results']['sat_score'] = data['sat_results'][cols].sum(axis=1)\n",
    "data['sat_results']['sat_score'] = data['sat_results'][cols[0]] + data['sat_results'][cols[1]] + data['sat_results'][cols[2]]\n",
    "\n",
    "\n",
    "def find_lat(loc):\n",
    "    coords = re.findall(\"\\(.+, .+\\)\", loc)\n",
    "    lat = coords[0].split(\",\")[0].replace(\"(\", \"\")\n",
    "    return lat\n",
    "\n",
    "def find_lon(loc):\n",
    "    coords = re.findall(\"\\(.+, .+\\)\", loc)\n",
    "    lon = coords[0].split(\",\")[1].replace(\")\", \"\").strip()\n",
    "    return lon\n",
    "\n",
    "data[\"hs_directory\"][\"lat\"] = data[\"hs_directory\"][\"Location 1\"].apply(find_lat)\n",
    "data[\"hs_directory\"][\"lon\"] = data[\"hs_directory\"][\"Location 1\"].apply(find_lon)\n",
    "\n",
    "data[\"hs_directory\"][\"lat\"] = pd.to_numeric(data[\"hs_directory\"][\"lat\"], errors=\"coerce\")\n",
    "data[\"hs_directory\"][\"lon\"] = pd.to_numeric(data[\"hs_directory\"][\"lon\"], errors=\"coerce\")\n",
    "\n",
    "cols2 = ['AP Test Takers ', 'Total Exams Taken', 'Number of Exams with scores 3 4 or 5']\n",
    "\n",
    "for col in cols2:\n",
    "    data[\"ap_2010\"][col] = pd.to_numeric(data[\"ap_2010\"][col], errors=\"coerce\")"
   ]
  },
  {
   "cell_type": "markdown",
   "id": "5e7805ee",
   "metadata": {},
   "source": [
    "### Condense datasets\n",
    "\n",
    "We are going to focus our analysis in high schools (GRADE: 09-12 and PROGRAM TYPE: GEN ED). After that, we are going to group by 'DBN' as the column that will have the uniques value in all dataframes.\n",
    "\n",
    "We are going to analyse the school year 2011 / 2012 (same as the SAT results) and the graduation data from 2006 (the most recent) for the total cohort."
   ]
  },
  {
   "cell_type": "code",
   "execution_count": 7,
   "id": "b95d5f99",
   "metadata": {},
   "outputs": [],
   "source": [
    "class_size = data[\"class_size\"]\n",
    "class_size = class_size[class_size[\"GRADE \"] == \"09-12\"]\n",
    "class_size = class_size[class_size[\"PROGRAM TYPE\"] == \"GEN ED\"]\n",
    "\n",
    "class_size = class_size.groupby(\"DBN\").agg(np.mean)\n",
    "class_size.reset_index(inplace=True)\n",
    "data[\"class_size\"] = class_size\n",
    "\n",
    "data[\"demographics\"] = data[\"demographics\"][data[\"demographics\"][\"schoolyear\"] == 20112012]\n",
    "\n",
    "data[\"graduation\"] = data[\"graduation\"][data[\"graduation\"][\"Cohort\"] == \"2006\"]\n",
    "data[\"graduation\"] = data[\"graduation\"][data[\"graduation\"][\"Demographic\"] == \"Total Cohort\"]"
   ]
  },
  {
   "cell_type": "markdown",
   "id": "ac0105d7",
   "metadata": {},
   "source": [
    "### Combine the dataframes"
   ]
  },
  {
   "cell_type": "code",
   "execution_count": 8,
   "id": "fd90fbdf",
   "metadata": {},
   "outputs": [
    {
     "name": "stderr",
     "output_type": "stream",
     "text": [
      "C:\\Users\\laura\\AppData\\Local\\Temp\\ipykernel_24856\\3398560250.py:11: FutureWarning: Dropping of nuisance columns in DataFrame reductions (with 'numeric_only=None') is deprecated; in a future version this will raise TypeError.  Select only valid columns before calling the reduction.\n",
      "  combined = combined.fillna(combined.mean())\n"
     ]
    }
   ],
   "source": [
    "combined = data[\"sat_results\"]\n",
    "\n",
    "combined = combined.merge(data[\"ap_2010\"], on=\"DBN\", how=\"left\")\n",
    "combined = combined.merge(data[\"graduation\"], on=\"DBN\", how=\"left\")\n",
    "\n",
    "to_merge = [\"class_size\", \"demographics\", \"survey\", \"hs_directory\"]\n",
    "\n",
    "for m in to_merge:\n",
    "    combined = combined.merge(data[m], on=\"DBN\", how=\"inner\")\n",
    "\n",
    "combined = combined.fillna(combined.mean())\n",
    "combined = combined.fillna(0)"
   ]
  },
  {
   "cell_type": "code",
   "execution_count": 9,
   "id": "03c4b309",
   "metadata": {},
   "outputs": [
    {
     "data": {
      "text/plain": [
       "(363, 159)"
      ]
     },
     "execution_count": 9,
     "metadata": {},
     "output_type": "execute_result"
    }
   ],
   "source": [
    "combined.shape"
   ]
  },
  {
   "cell_type": "code",
   "execution_count": 10,
   "id": "6678a2e9",
   "metadata": {},
   "outputs": [
    {
     "data": {
      "text/html": [
       "<div>\n",
       "<style scoped>\n",
       "    .dataframe tbody tr th:only-of-type {\n",
       "        vertical-align: middle;\n",
       "    }\n",
       "\n",
       "    .dataframe tbody tr th {\n",
       "        vertical-align: top;\n",
       "    }\n",
       "\n",
       "    .dataframe thead th {\n",
       "        text-align: right;\n",
       "    }\n",
       "</style>\n",
       "<table border=\"1\" class=\"dataframe\">\n",
       "  <thead>\n",
       "    <tr style=\"text-align: right;\">\n",
       "      <th></th>\n",
       "      <th>DBN</th>\n",
       "      <th>SCHOOL NAME</th>\n",
       "      <th>Num of SAT Test Takers</th>\n",
       "      <th>SAT Critical Reading Avg. Score</th>\n",
       "      <th>SAT Math Avg. Score</th>\n",
       "      <th>SAT Writing Avg. Score</th>\n",
       "      <th>sat_score</th>\n",
       "      <th>SchoolName</th>\n",
       "      <th>AP Test Takers</th>\n",
       "      <th>Total Exams Taken</th>\n",
       "      <th>...</th>\n",
       "      <th>priority04</th>\n",
       "      <th>priority05</th>\n",
       "      <th>priority06</th>\n",
       "      <th>priority07</th>\n",
       "      <th>priority08</th>\n",
       "      <th>priority09</th>\n",
       "      <th>priority10</th>\n",
       "      <th>Location 1</th>\n",
       "      <th>lat</th>\n",
       "      <th>lon</th>\n",
       "    </tr>\n",
       "  </thead>\n",
       "  <tbody>\n",
       "    <tr>\n",
       "      <th>0</th>\n",
       "      <td>01M292</td>\n",
       "      <td>HENRY STREET SCHOOL FOR INTERNATIONAL STUDIES</td>\n",
       "      <td>29</td>\n",
       "      <td>355.0</td>\n",
       "      <td>404.0</td>\n",
       "      <td>363.0</td>\n",
       "      <td>1122.0</td>\n",
       "      <td>0</td>\n",
       "      <td>129.028846</td>\n",
       "      <td>197.038462</td>\n",
       "      <td>...</td>\n",
       "      <td>Then to Manhattan students or residents</td>\n",
       "      <td>Then to New York City residents</td>\n",
       "      <td>0</td>\n",
       "      <td>0</td>\n",
       "      <td>0.0</td>\n",
       "      <td>0.0</td>\n",
       "      <td>0.0</td>\n",
       "      <td>220 Henry Street\\nNew York, NY 10002\\n(40.7137...</td>\n",
       "      <td>40.713764</td>\n",
       "      <td>-73.985260</td>\n",
       "    </tr>\n",
       "    <tr>\n",
       "      <th>1</th>\n",
       "      <td>01M448</td>\n",
       "      <td>UNIVERSITY NEIGHBORHOOD HIGH SCHOOL</td>\n",
       "      <td>91</td>\n",
       "      <td>383.0</td>\n",
       "      <td>423.0</td>\n",
       "      <td>366.0</td>\n",
       "      <td>1172.0</td>\n",
       "      <td>UNIVERSITY NEIGHBORHOOD H.S.</td>\n",
       "      <td>39.000000</td>\n",
       "      <td>49.000000</td>\n",
       "      <td>...</td>\n",
       "      <td>0</td>\n",
       "      <td>0</td>\n",
       "      <td>0</td>\n",
       "      <td>0</td>\n",
       "      <td>0.0</td>\n",
       "      <td>0.0</td>\n",
       "      <td>0.0</td>\n",
       "      <td>200 Monroe Street\\nNew York, NY 10002\\n(40.712...</td>\n",
       "      <td>40.712332</td>\n",
       "      <td>-73.984797</td>\n",
       "    </tr>\n",
       "    <tr>\n",
       "      <th>2</th>\n",
       "      <td>01M450</td>\n",
       "      <td>EAST SIDE COMMUNITY SCHOOL</td>\n",
       "      <td>70</td>\n",
       "      <td>377.0</td>\n",
       "      <td>402.0</td>\n",
       "      <td>370.0</td>\n",
       "      <td>1149.0</td>\n",
       "      <td>EAST SIDE COMMUNITY HS</td>\n",
       "      <td>19.000000</td>\n",
       "      <td>21.000000</td>\n",
       "      <td>...</td>\n",
       "      <td>0</td>\n",
       "      <td>0</td>\n",
       "      <td>0</td>\n",
       "      <td>0</td>\n",
       "      <td>0.0</td>\n",
       "      <td>0.0</td>\n",
       "      <td>0.0</td>\n",
       "      <td>420 East 12 Street\\nNew York, NY 10009\\n(40.72...</td>\n",
       "      <td>40.729783</td>\n",
       "      <td>-73.983041</td>\n",
       "    </tr>\n",
       "    <tr>\n",
       "      <th>3</th>\n",
       "      <td>01M509</td>\n",
       "      <td>MARTA VALLE HIGH SCHOOL</td>\n",
       "      <td>44</td>\n",
       "      <td>390.0</td>\n",
       "      <td>433.0</td>\n",
       "      <td>384.0</td>\n",
       "      <td>1207.0</td>\n",
       "      <td>0</td>\n",
       "      <td>129.028846</td>\n",
       "      <td>197.038462</td>\n",
       "      <td>...</td>\n",
       "      <td>0</td>\n",
       "      <td>0</td>\n",
       "      <td>0</td>\n",
       "      <td>0</td>\n",
       "      <td>0.0</td>\n",
       "      <td>0.0</td>\n",
       "      <td>0.0</td>\n",
       "      <td>145 Stanton Street\\nNew York, NY 10002\\n(40.72...</td>\n",
       "      <td>40.720569</td>\n",
       "      <td>-73.985673</td>\n",
       "    </tr>\n",
       "    <tr>\n",
       "      <th>4</th>\n",
       "      <td>01M539</td>\n",
       "      <td>NEW EXPLORATIONS INTO SCIENCE, TECHNOLOGY AND ...</td>\n",
       "      <td>159</td>\n",
       "      <td>522.0</td>\n",
       "      <td>574.0</td>\n",
       "      <td>525.0</td>\n",
       "      <td>1621.0</td>\n",
       "      <td>NEW EXPLORATIONS SCI,TECH,MATH</td>\n",
       "      <td>255.000000</td>\n",
       "      <td>377.000000</td>\n",
       "      <td>...</td>\n",
       "      <td>0</td>\n",
       "      <td>0</td>\n",
       "      <td>0</td>\n",
       "      <td>0</td>\n",
       "      <td>0.0</td>\n",
       "      <td>0.0</td>\n",
       "      <td>0.0</td>\n",
       "      <td>111 Columbia Street\\nNew York, NY 10002\\n(40.7...</td>\n",
       "      <td>40.718725</td>\n",
       "      <td>-73.979426</td>\n",
       "    </tr>\n",
       "  </tbody>\n",
       "</table>\n",
       "<p>5 rows × 159 columns</p>\n",
       "</div>"
      ],
      "text/plain": [
       "      DBN                                        SCHOOL NAME  \\\n",
       "0  01M292      HENRY STREET SCHOOL FOR INTERNATIONAL STUDIES   \n",
       "1  01M448                UNIVERSITY NEIGHBORHOOD HIGH SCHOOL   \n",
       "2  01M450                         EAST SIDE COMMUNITY SCHOOL   \n",
       "3  01M509                            MARTA VALLE HIGH SCHOOL   \n",
       "4  01M539  NEW EXPLORATIONS INTO SCIENCE, TECHNOLOGY AND ...   \n",
       "\n",
       "  Num of SAT Test Takers  SAT Critical Reading Avg. Score  \\\n",
       "0                     29                            355.0   \n",
       "1                     91                            383.0   \n",
       "2                     70                            377.0   \n",
       "3                     44                            390.0   \n",
       "4                    159                            522.0   \n",
       "\n",
       "   SAT Math Avg. Score  SAT Writing Avg. Score  sat_score  \\\n",
       "0                404.0                   363.0     1122.0   \n",
       "1                423.0                   366.0     1172.0   \n",
       "2                402.0                   370.0     1149.0   \n",
       "3                433.0                   384.0     1207.0   \n",
       "4                574.0                   525.0     1621.0   \n",
       "\n",
       "                       SchoolName  AP Test Takers   Total Exams Taken  ...  \\\n",
       "0                               0       129.028846         197.038462  ...   \n",
       "1    UNIVERSITY NEIGHBORHOOD H.S.        39.000000          49.000000  ...   \n",
       "2          EAST SIDE COMMUNITY HS        19.000000          21.000000  ...   \n",
       "3                               0       129.028846         197.038462  ...   \n",
       "4  NEW EXPLORATIONS SCI,TECH,MATH       255.000000         377.000000  ...   \n",
       "\n",
       "                                priority04                       priority05  \\\n",
       "0  Then to Manhattan students or residents  Then to New York City residents   \n",
       "1                                        0                                0   \n",
       "2                                        0                                0   \n",
       "3                                        0                                0   \n",
       "4                                        0                                0   \n",
       "\n",
       "  priority06 priority07  priority08 priority09 priority10  \\\n",
       "0          0          0         0.0        0.0        0.0   \n",
       "1          0          0         0.0        0.0        0.0   \n",
       "2          0          0         0.0        0.0        0.0   \n",
       "3          0          0         0.0        0.0        0.0   \n",
       "4          0          0         0.0        0.0        0.0   \n",
       "\n",
       "                                          Location 1        lat        lon  \n",
       "0  220 Henry Street\\nNew York, NY 10002\\n(40.7137...  40.713764 -73.985260  \n",
       "1  200 Monroe Street\\nNew York, NY 10002\\n(40.712...  40.712332 -73.984797  \n",
       "2  420 East 12 Street\\nNew York, NY 10009\\n(40.72...  40.729783 -73.983041  \n",
       "3  145 Stanton Street\\nNew York, NY 10002\\n(40.72...  40.720569 -73.985673  \n",
       "4  111 Columbia Street\\nNew York, NY 10002\\n(40.7...  40.718725 -73.979426  \n",
       "\n",
       "[5 rows x 159 columns]"
      ]
     },
     "execution_count": 10,
     "metadata": {},
     "output_type": "execute_result"
    }
   ],
   "source": [
    "combined.head(5)"
   ]
  },
  {
   "cell_type": "markdown",
   "id": "6fb7764a",
   "metadata": {},
   "source": [
    "### Add a school district column for mapping"
   ]
  },
  {
   "cell_type": "code",
   "execution_count": 11,
   "id": "2743bac8",
   "metadata": {},
   "outputs": [
    {
     "data": {
      "text/html": [
       "<div>\n",
       "<style scoped>\n",
       "    .dataframe tbody tr th:only-of-type {\n",
       "        vertical-align: middle;\n",
       "    }\n",
       "\n",
       "    .dataframe tbody tr th {\n",
       "        vertical-align: top;\n",
       "    }\n",
       "\n",
       "    .dataframe thead th {\n",
       "        text-align: right;\n",
       "    }\n",
       "</style>\n",
       "<table border=\"1\" class=\"dataframe\">\n",
       "  <thead>\n",
       "    <tr style=\"text-align: right;\">\n",
       "      <th></th>\n",
       "      <th>DBN</th>\n",
       "      <th>SCHOOL NAME</th>\n",
       "      <th>Num of SAT Test Takers</th>\n",
       "      <th>SAT Critical Reading Avg. Score</th>\n",
       "      <th>SAT Math Avg. Score</th>\n",
       "      <th>SAT Writing Avg. Score</th>\n",
       "      <th>sat_score</th>\n",
       "      <th>SchoolName</th>\n",
       "      <th>AP Test Takers</th>\n",
       "      <th>Total Exams Taken</th>\n",
       "      <th>...</th>\n",
       "      <th>priority05</th>\n",
       "      <th>priority06</th>\n",
       "      <th>priority07</th>\n",
       "      <th>priority08</th>\n",
       "      <th>priority09</th>\n",
       "      <th>priority10</th>\n",
       "      <th>Location 1</th>\n",
       "      <th>lat</th>\n",
       "      <th>lon</th>\n",
       "      <th>school_dist</th>\n",
       "    </tr>\n",
       "  </thead>\n",
       "  <tbody>\n",
       "    <tr>\n",
       "      <th>0</th>\n",
       "      <td>01M292</td>\n",
       "      <td>HENRY STREET SCHOOL FOR INTERNATIONAL STUDIES</td>\n",
       "      <td>29</td>\n",
       "      <td>355.0</td>\n",
       "      <td>404.0</td>\n",
       "      <td>363.0</td>\n",
       "      <td>1122.0</td>\n",
       "      <td>0</td>\n",
       "      <td>129.028846</td>\n",
       "      <td>197.038462</td>\n",
       "      <td>...</td>\n",
       "      <td>Then to New York City residents</td>\n",
       "      <td>0</td>\n",
       "      <td>0</td>\n",
       "      <td>0.0</td>\n",
       "      <td>0.0</td>\n",
       "      <td>0.0</td>\n",
       "      <td>220 Henry Street\\nNew York, NY 10002\\n(40.7137...</td>\n",
       "      <td>40.713764</td>\n",
       "      <td>-73.985260</td>\n",
       "      <td>01</td>\n",
       "    </tr>\n",
       "    <tr>\n",
       "      <th>1</th>\n",
       "      <td>01M448</td>\n",
       "      <td>UNIVERSITY NEIGHBORHOOD HIGH SCHOOL</td>\n",
       "      <td>91</td>\n",
       "      <td>383.0</td>\n",
       "      <td>423.0</td>\n",
       "      <td>366.0</td>\n",
       "      <td>1172.0</td>\n",
       "      <td>UNIVERSITY NEIGHBORHOOD H.S.</td>\n",
       "      <td>39.000000</td>\n",
       "      <td>49.000000</td>\n",
       "      <td>...</td>\n",
       "      <td>0</td>\n",
       "      <td>0</td>\n",
       "      <td>0</td>\n",
       "      <td>0.0</td>\n",
       "      <td>0.0</td>\n",
       "      <td>0.0</td>\n",
       "      <td>200 Monroe Street\\nNew York, NY 10002\\n(40.712...</td>\n",
       "      <td>40.712332</td>\n",
       "      <td>-73.984797</td>\n",
       "      <td>01</td>\n",
       "    </tr>\n",
       "    <tr>\n",
       "      <th>2</th>\n",
       "      <td>01M450</td>\n",
       "      <td>EAST SIDE COMMUNITY SCHOOL</td>\n",
       "      <td>70</td>\n",
       "      <td>377.0</td>\n",
       "      <td>402.0</td>\n",
       "      <td>370.0</td>\n",
       "      <td>1149.0</td>\n",
       "      <td>EAST SIDE COMMUNITY HS</td>\n",
       "      <td>19.000000</td>\n",
       "      <td>21.000000</td>\n",
       "      <td>...</td>\n",
       "      <td>0</td>\n",
       "      <td>0</td>\n",
       "      <td>0</td>\n",
       "      <td>0.0</td>\n",
       "      <td>0.0</td>\n",
       "      <td>0.0</td>\n",
       "      <td>420 East 12 Street\\nNew York, NY 10009\\n(40.72...</td>\n",
       "      <td>40.729783</td>\n",
       "      <td>-73.983041</td>\n",
       "      <td>01</td>\n",
       "    </tr>\n",
       "    <tr>\n",
       "      <th>3</th>\n",
       "      <td>01M509</td>\n",
       "      <td>MARTA VALLE HIGH SCHOOL</td>\n",
       "      <td>44</td>\n",
       "      <td>390.0</td>\n",
       "      <td>433.0</td>\n",
       "      <td>384.0</td>\n",
       "      <td>1207.0</td>\n",
       "      <td>0</td>\n",
       "      <td>129.028846</td>\n",
       "      <td>197.038462</td>\n",
       "      <td>...</td>\n",
       "      <td>0</td>\n",
       "      <td>0</td>\n",
       "      <td>0</td>\n",
       "      <td>0.0</td>\n",
       "      <td>0.0</td>\n",
       "      <td>0.0</td>\n",
       "      <td>145 Stanton Street\\nNew York, NY 10002\\n(40.72...</td>\n",
       "      <td>40.720569</td>\n",
       "      <td>-73.985673</td>\n",
       "      <td>01</td>\n",
       "    </tr>\n",
       "    <tr>\n",
       "      <th>4</th>\n",
       "      <td>01M539</td>\n",
       "      <td>NEW EXPLORATIONS INTO SCIENCE, TECHNOLOGY AND ...</td>\n",
       "      <td>159</td>\n",
       "      <td>522.0</td>\n",
       "      <td>574.0</td>\n",
       "      <td>525.0</td>\n",
       "      <td>1621.0</td>\n",
       "      <td>NEW EXPLORATIONS SCI,TECH,MATH</td>\n",
       "      <td>255.000000</td>\n",
       "      <td>377.000000</td>\n",
       "      <td>...</td>\n",
       "      <td>0</td>\n",
       "      <td>0</td>\n",
       "      <td>0</td>\n",
       "      <td>0.0</td>\n",
       "      <td>0.0</td>\n",
       "      <td>0.0</td>\n",
       "      <td>111 Columbia Street\\nNew York, NY 10002\\n(40.7...</td>\n",
       "      <td>40.718725</td>\n",
       "      <td>-73.979426</td>\n",
       "      <td>01</td>\n",
       "    </tr>\n",
       "  </tbody>\n",
       "</table>\n",
       "<p>5 rows × 160 columns</p>\n",
       "</div>"
      ],
      "text/plain": [
       "      DBN                                        SCHOOL NAME  \\\n",
       "0  01M292      HENRY STREET SCHOOL FOR INTERNATIONAL STUDIES   \n",
       "1  01M448                UNIVERSITY NEIGHBORHOOD HIGH SCHOOL   \n",
       "2  01M450                         EAST SIDE COMMUNITY SCHOOL   \n",
       "3  01M509                            MARTA VALLE HIGH SCHOOL   \n",
       "4  01M539  NEW EXPLORATIONS INTO SCIENCE, TECHNOLOGY AND ...   \n",
       "\n",
       "  Num of SAT Test Takers  SAT Critical Reading Avg. Score  \\\n",
       "0                     29                            355.0   \n",
       "1                     91                            383.0   \n",
       "2                     70                            377.0   \n",
       "3                     44                            390.0   \n",
       "4                    159                            522.0   \n",
       "\n",
       "   SAT Math Avg. Score  SAT Writing Avg. Score  sat_score  \\\n",
       "0                404.0                   363.0     1122.0   \n",
       "1                423.0                   366.0     1172.0   \n",
       "2                402.0                   370.0     1149.0   \n",
       "3                433.0                   384.0     1207.0   \n",
       "4                574.0                   525.0     1621.0   \n",
       "\n",
       "                       SchoolName  AP Test Takers   Total Exams Taken  ...  \\\n",
       "0                               0       129.028846         197.038462  ...   \n",
       "1    UNIVERSITY NEIGHBORHOOD H.S.        39.000000          49.000000  ...   \n",
       "2          EAST SIDE COMMUNITY HS        19.000000          21.000000  ...   \n",
       "3                               0       129.028846         197.038462  ...   \n",
       "4  NEW EXPLORATIONS SCI,TECH,MATH       255.000000         377.000000  ...   \n",
       "\n",
       "                        priority05 priority06 priority07 priority08  \\\n",
       "0  Then to New York City residents          0          0        0.0   \n",
       "1                                0          0          0        0.0   \n",
       "2                                0          0          0        0.0   \n",
       "3                                0          0          0        0.0   \n",
       "4                                0          0          0        0.0   \n",
       "\n",
       "   priority09 priority10                                         Location 1  \\\n",
       "0         0.0        0.0  220 Henry Street\\nNew York, NY 10002\\n(40.7137...   \n",
       "1         0.0        0.0  200 Monroe Street\\nNew York, NY 10002\\n(40.712...   \n",
       "2         0.0        0.0  420 East 12 Street\\nNew York, NY 10009\\n(40.72...   \n",
       "3         0.0        0.0  145 Stanton Street\\nNew York, NY 10002\\n(40.72...   \n",
       "4         0.0        0.0  111 Columbia Street\\nNew York, NY 10002\\n(40.7...   \n",
       "\n",
       "         lat        lon school_dist  \n",
       "0  40.713764 -73.985260          01  \n",
       "1  40.712332 -73.984797          01  \n",
       "2  40.729783 -73.983041          01  \n",
       "3  40.720569 -73.985673          01  \n",
       "4  40.718725 -73.979426          01  \n",
       "\n",
       "[5 rows x 160 columns]"
      ]
     },
     "execution_count": 11,
     "metadata": {},
     "output_type": "execute_result"
    }
   ],
   "source": [
    "def twoChar(s):\n",
    "    return s[0:2]\n",
    "\n",
    "combined['school_dist'] = combined['DBN'].apply(twoChar)\n",
    "combined.head()"
   ]
  },
  {
   "cell_type": "markdown",
   "id": "2aac496a",
   "metadata": {},
   "source": [
    "### Find correlations"
   ]
  },
  {
   "cell_type": "code",
   "execution_count": 12,
   "id": "8fea2353",
   "metadata": {},
   "outputs": [
    {
     "name": "stdout",
     "output_type": "stream",
     "text": [
      "SAT Critical Reading Avg. Score    0.986820\n",
      "SAT Math Avg. Score                0.972643\n",
      "SAT Writing Avg. Score             0.987771\n",
      "sat_score                          1.000000\n",
      "AP Test Takers                     0.523140\n",
      "                                     ...   \n",
      "priority08                              NaN\n",
      "priority09                              NaN\n",
      "priority10                              NaN\n",
      "lat                               -0.121029\n",
      "lon                               -0.132222\n",
      "Name: sat_score, Length: 67, dtype: float64\n"
     ]
    }
   ],
   "source": [
    "correlations = combined.corr()\n",
    "correlations = correlations[\"sat_score\"]\n",
    "print(correlations)"
   ]
  },
  {
   "cell_type": "code",
   "execution_count": 13,
   "id": "3218a569",
   "metadata": {},
   "outputs": [],
   "source": [
    "# Remove DBN since it's a unique identifier, not a useful numerical value for correlation.\n",
    "survey_fields.remove(\"DBN\")"
   ]
  },
  {
   "cell_type": "code",
   "execution_count": 14,
   "id": "58f9bc5b",
   "metadata": {},
   "outputs": [
    {
     "data": {
      "image/png": "[encoded data removed]",
      "text/plain": [
       "<Figure size 432x288 with 1 Axes>"
      ]
     },
     "metadata": {
      "needs_background": "light"
     },
     "output_type": "display_data"
    }
   ],
   "source": [
    "import matplotlib.pyplot as plt\n",
    "%matplotlib inline\n",
    "\n",
    "correlations[survey_fields].plot.bar()\n",
    "\n",
    "plt.show()"
   ]
  },
  {
   "cell_type": "markdown",
   "id": "c81ea5d8",
   "metadata": {},
   "source": [
    "We can find high correlations above 0.25 between N_s (number of student respondents), N_t (number of teacher respondents) and N_p (number of parent respondents) columns and the SAT score. These columns are related to the total enrollment.\n",
    "\n",
    "saf_t_11, saf_s_11 and saf_tot_11, which measure how teachers and students perceive safety at school, correlated with sat_score. Safety environments will get a better score in SAT."
   ]
  },
  {
   "cell_type": "markdown",
   "id": "dd7e4a7e",
   "metadata": {},
   "source": [
    "### Exploring Safety and SAT Scores"
   ]
  },
  {
   "cell_type": "code",
   "execution_count": 15,
   "id": "27ee8009",
   "metadata": {},
   "outputs": [
    {
     "data": {
      "image/png": "[encoded data removed]",
      "text/plain": [
       "<Figure size 432x288 with 1 Axes>"
      ]
     },
     "metadata": {
      "needs_background": "light"
     },
     "output_type": "display_data"
    }
   ],
   "source": [
    "combined.plot.scatter(x='saf_s_11', y='sat_score')\n",
    "plt.show()"
   ]
  },
  {
   "cell_type": "code",
   "execution_count": 24,
   "id": "63646758",
   "metadata": {},
   "outputs": [
    {
     "data": {
      "text/html": [
       "<div>\n",
       "<style scoped>\n",
       "    .dataframe tbody tr th:only-of-type {\n",
       "        vertical-align: middle;\n",
       "    }\n",
       "\n",
       "    .dataframe tbody tr th {\n",
       "        vertical-align: top;\n",
       "    }\n",
       "\n",
       "    .dataframe thead th {\n",
       "        text-align: right;\n",
       "    }\n",
       "</style>\n",
       "<table border=\"1\" class=\"dataframe\">\n",
       "  <thead>\n",
       "    <tr style=\"text-align: right;\">\n",
       "      <th></th>\n",
       "      <th>saf_s_11</th>\n",
       "      <th>saf_t_11</th>\n",
       "      <th>saf_tot_11</th>\n",
       "    </tr>\n",
       "    <tr>\n",
       "      <th>boro</th>\n",
       "      <th></th>\n",
       "      <th></th>\n",
       "      <th></th>\n",
       "    </tr>\n",
       "  </thead>\n",
       "  <tbody>\n",
       "    <tr>\n",
       "      <th>Bronx</th>\n",
       "      <td>6.606577</td>\n",
       "      <td>7.026882</td>\n",
       "      <td>7.322581</td>\n",
       "    </tr>\n",
       "    <tr>\n",
       "      <th>Brooklyn</th>\n",
       "      <td>6.370755</td>\n",
       "      <td>6.985849</td>\n",
       "      <td>7.129245</td>\n",
       "    </tr>\n",
       "    <tr>\n",
       "      <th>Manhattan</th>\n",
       "      <td>6.831370</td>\n",
       "      <td>7.287778</td>\n",
       "      <td>7.473333</td>\n",
       "    </tr>\n",
       "    <tr>\n",
       "      <th>Queens</th>\n",
       "      <td>6.721875</td>\n",
       "      <td>7.365625</td>\n",
       "      <td>7.387500</td>\n",
       "    </tr>\n",
       "    <tr>\n",
       "      <th>Staten Island</th>\n",
       "      <td>6.530000</td>\n",
       "      <td>7.210000</td>\n",
       "      <td>7.200000</td>\n",
       "    </tr>\n",
       "  </tbody>\n",
       "</table>\n",
       "</div>"
      ],
      "text/plain": [
       "               saf_s_11  saf_t_11  saf_tot_11\n",
       "boro                                         \n",
       "Bronx          6.606577  7.026882    7.322581\n",
       "Brooklyn       6.370755  6.985849    7.129245\n",
       "Manhattan      6.831370  7.287778    7.473333\n",
       "Queens         6.721875  7.365625    7.387500\n",
       "Staten Island  6.530000  7.210000    7.200000"
      ]
     },
     "execution_count": 24,
     "metadata": {},
     "output_type": "execute_result"
    }
   ],
   "source": [
    "safe_boro = combined.groupby('boro')[['saf_s_11','saf_t_11','saf_tot_11']].agg(np.mean)\n",
    "safe_boro"
   ]
  },
  {
   "cell_type": "markdown",
   "id": "5afd56e5",
   "metadata": {},
   "source": [
    "Students and teachers scores Manhattan and Queens as the safest boroughs and Brooklyn as the unsafest one."
   ]
  },
  {
   "cell_type": "markdown",
   "id": "85b9f571",
   "metadata": {},
   "source": [
    "### Exploring Race and SAT Scores\n",
    "\n",
    "The columns `white_per`, `asian_per`, `black_per` and `hispanic_per` indicates the percentage of white/asian/black/hispanic students."
   ]
  },
  {
   "cell_type": "code",
   "execution_count": 34,
   "id": "0d96655d",
   "metadata": {},
   "outputs": [
    {
     "data": {
      "image/png": "[encoded data removed]",
      "text/plain": [
       "<Figure size 432x288 with 1 Axes>"
      ]
     },
     "metadata": {
      "needs_background": "light"
     },
     "output_type": "display_data"
    }
   ],
   "source": [
    "#racial_cols = combined.columns[combined.columns.str.contains('_per')]\n",
    "racial_cols = ['white_per', 'asian_per', 'black_per', 'hispanic_per']\n",
    "racial_corr = combined.corr()['sat_score'][racial_cols]\n",
    "\n",
    "racial_corr.plot.bar()\n",
    "plt.show()"
   ]
  },
  {
   "cell_type": "markdown",
   "id": "d4438393",
   "metadata": {},
   "source": [
    "White and asian students have a better performance in SAT but it is not the case for black and hispanic students."
   ]
  },
  {
   "cell_type": "code",
   "execution_count": 45,
   "id": "18dd785c",
   "metadata": {},
   "outputs": [
    {
     "data": {
      "text/plain": [
       "91       INTERNATIONAL COMMUNITY HIGH SCHOOL\n",
       "125      ACADEMY FOR LANGUAGE AND TECHNOLOGY\n",
       "126          BRONX INTERNATIONAL HIGH SCHOOL\n",
       "139    KINGSBRIDGE INTERNATIONAL HIGH SCHOOL\n",
       "141    INTERNATIONAL SCHOOL FOR LIBERAL ARTS\n",
       "Name: SCHOOL NAME, dtype: object"
      ]
     },
     "execution_count": 45,
     "metadata": {},
     "output_type": "execute_result"
    }
   ],
   "source": [
    "bool_mask = (combined['sat_score'] < 1000) & (combined['hispanic_per'] > 40)\n",
    "lowSATschools_hisp = combined[bool_mask]\n",
    "\n",
    "lowSATschools_hisp['SCHOOL NAME'].head()"
   ]
  },
  {
   "cell_type": "code",
   "execution_count": 41,
   "id": "dd6aea71",
   "metadata": {},
   "outputs": [
    {
     "data": {
      "image/png": "[encoded data removed]",
      "text/plain": [
       "<Figure size 432x288 with 1 Axes>"
      ]
     },
     "metadata": {
      "needs_background": "light"
     },
     "output_type": "display_data"
    }
   ],
   "source": [
    "combined.plot.scatter(x='hispanic_per', y='sat_score')\n",
    "plt.show()"
   ]
  },
  {
   "cell_type": "markdown",
   "id": "662d84a3",
   "metadata": {},
   "source": [
    "The greater is the percentage of hispanic students, the lower are the SAT scores."
   ]
  },
  {
   "cell_type": "code",
   "execution_count": 47,
   "id": "6bb5a090",
   "metadata": {
    "scrolled": false
   },
   "outputs": [
    {
     "data": {
      "text/plain": [
       "44                         MANHATTAN BRIDGES HIGH SCHOOL\n",
       "82      WASHINGTON HEIGHTS EXPEDITIONARY LEARNING SCHOOL\n",
       "89     GREGORIO LUPERON HIGH SCHOOL FOR SCIENCE AND M...\n",
       "125                  ACADEMY FOR LANGUAGE AND TECHNOLOGY\n",
       "141                INTERNATIONAL SCHOOL FOR LIBERAL ARTS\n",
       "Name: SCHOOL NAME, dtype: object"
      ]
     },
     "execution_count": 47,
     "metadata": {},
     "output_type": "execute_result"
    }
   ],
   "source": [
    "bool_mask = combined['hispanic_per'] > 95\n",
    "lowSATschools_hisp95 = combined[bool_mask]\n",
    "\n",
    "lowSATschools_hisp95['SCHOOL NAME'].head()"
   ]
  },
  {
   "cell_type": "code",
   "execution_count": 49,
   "id": "344ea5e0",
   "metadata": {},
   "outputs": [
    {
     "data": {
      "text/html": [
       "<div>\n",
       "<style scoped>\n",
       "    .dataframe tbody tr th:only-of-type {\n",
       "        vertical-align: middle;\n",
       "    }\n",
       "\n",
       "    .dataframe tbody tr th {\n",
       "        vertical-align: top;\n",
       "    }\n",
       "\n",
       "    .dataframe thead th {\n",
       "        text-align: right;\n",
       "    }\n",
       "</style>\n",
       "<table border=\"1\" class=\"dataframe\">\n",
       "  <thead>\n",
       "    <tr style=\"text-align: right;\">\n",
       "      <th></th>\n",
       "      <th>SCHOOL NAME</th>\n",
       "      <th>ell_percent</th>\n",
       "    </tr>\n",
       "  </thead>\n",
       "  <tbody>\n",
       "    <tr>\n",
       "      <th>44</th>\n",
       "      <td>MANHATTAN BRIDGES HIGH SCHOOL</td>\n",
       "      <td>72.6</td>\n",
       "    </tr>\n",
       "    <tr>\n",
       "      <th>82</th>\n",
       "      <td>WASHINGTON HEIGHTS EXPEDITIONARY LEARNING SCHOOL</td>\n",
       "      <td>19.6</td>\n",
       "    </tr>\n",
       "    <tr>\n",
       "      <th>89</th>\n",
       "      <td>GREGORIO LUPERON HIGH SCHOOL FOR SCIENCE AND M...</td>\n",
       "      <td>89.6</td>\n",
       "    </tr>\n",
       "    <tr>\n",
       "      <th>125</th>\n",
       "      <td>ACADEMY FOR LANGUAGE AND TECHNOLOGY</td>\n",
       "      <td>86.6</td>\n",
       "    </tr>\n",
       "    <tr>\n",
       "      <th>141</th>\n",
       "      <td>INTERNATIONAL SCHOOL FOR LIBERAL ARTS</td>\n",
       "      <td>79.9</td>\n",
       "    </tr>\n",
       "  </tbody>\n",
       "</table>\n",
       "</div>"
      ],
      "text/plain": [
       "                                           SCHOOL NAME  ell_percent\n",
       "44                       MANHATTAN BRIDGES HIGH SCHOOL         72.6\n",
       "82    WASHINGTON HEIGHTS EXPEDITIONARY LEARNING SCHOOL         19.6\n",
       "89   GREGORIO LUPERON HIGH SCHOOL FOR SCIENCE AND M...         89.6\n",
       "125                ACADEMY FOR LANGUAGE AND TECHNOLOGY         86.6\n",
       "141              INTERNATIONAL SCHOOL FOR LIBERAL ARTS         79.9"
      ]
     },
     "execution_count": 49,
     "metadata": {},
     "output_type": "execute_result"
    }
   ],
   "source": [
    "lowSATschools_hisp95[['SCHOOL NAME','ell_percent']].head()"
   ]
  },
  {
   "cell_type": "markdown",
   "id": "206c570d",
   "metadata": {},
   "source": [
    "The schools listed above appear to primarily be geared towards recent immigrants to the US. These schools have a lot of students who are learning English (mostly more than 70%), which would explain the lower SAT scores."
   ]
  },
  {
   "cell_type": "code",
   "execution_count": 48,
   "id": "24ed2a9e",
   "metadata": {},
   "outputs": [
    {
     "data": {
      "text/plain": [
       "37                                STUYVESANT HIGH SCHOOL\n",
       "151                         BRONX HIGH SCHOOL OF SCIENCE\n",
       "187                       BROOKLYN TECHNICAL HIGH SCHOOL\n",
       "327    QUEENS HIGH SCHOOL FOR THE SCIENCES AT YORK CO...\n",
       "356                  STATEN ISLAND TECHNICAL HIGH SCHOOL\n",
       "Name: SCHOOL NAME, dtype: object"
      ]
     },
     "execution_count": 48,
     "metadata": {},
     "output_type": "execute_result"
    }
   ],
   "source": [
    "bool_mask = (combined['sat_score'] > 1800) & (combined['hispanic_per'] < 10)\n",
    "highSATschools_nohisp = combined[bool_mask]\n",
    "\n",
    "highSATschools_nohisp['SCHOOL NAME'].head()"
   ]
  },
  {
   "cell_type": "code",
   "execution_count": 50,
   "id": "eb771581",
   "metadata": {},
   "outputs": [
    {
     "data": {
      "text/html": [
       "<div>\n",
       "<style scoped>\n",
       "    .dataframe tbody tr th:only-of-type {\n",
       "        vertical-align: middle;\n",
       "    }\n",
       "\n",
       "    .dataframe tbody tr th {\n",
       "        vertical-align: top;\n",
       "    }\n",
       "\n",
       "    .dataframe thead th {\n",
       "        text-align: right;\n",
       "    }\n",
       "</style>\n",
       "<table border=\"1\" class=\"dataframe\">\n",
       "  <thead>\n",
       "    <tr style=\"text-align: right;\">\n",
       "      <th></th>\n",
       "      <th>SCHOOL NAME</th>\n",
       "      <th>ell_percent</th>\n",
       "    </tr>\n",
       "  </thead>\n",
       "  <tbody>\n",
       "    <tr>\n",
       "      <th>37</th>\n",
       "      <td>STUYVESANT HIGH SCHOOL</td>\n",
       "      <td>0.0</td>\n",
       "    </tr>\n",
       "    <tr>\n",
       "      <th>151</th>\n",
       "      <td>BRONX HIGH SCHOOL OF SCIENCE</td>\n",
       "      <td>0.1</td>\n",
       "    </tr>\n",
       "    <tr>\n",
       "      <th>187</th>\n",
       "      <td>BROOKLYN TECHNICAL HIGH SCHOOL</td>\n",
       "      <td>0.1</td>\n",
       "    </tr>\n",
       "    <tr>\n",
       "      <th>327</th>\n",
       "      <td>QUEENS HIGH SCHOOL FOR THE SCIENCES AT YORK CO...</td>\n",
       "      <td>0.2</td>\n",
       "    </tr>\n",
       "    <tr>\n",
       "      <th>356</th>\n",
       "      <td>STATEN ISLAND TECHNICAL HIGH SCHOOL</td>\n",
       "      <td>0.1</td>\n",
       "    </tr>\n",
       "  </tbody>\n",
       "</table>\n",
       "</div>"
      ],
      "text/plain": [
       "                                           SCHOOL NAME  ell_percent\n",
       "37                              STUYVESANT HIGH SCHOOL          0.0\n",
       "151                       BRONX HIGH SCHOOL OF SCIENCE          0.1\n",
       "187                     BROOKLYN TECHNICAL HIGH SCHOOL          0.1\n",
       "327  QUEENS HIGH SCHOOL FOR THE SCIENCES AT YORK CO...          0.2\n",
       "356                STATEN ISLAND TECHNICAL HIGH SCHOOL          0.1"
      ]
     },
     "execution_count": 50,
     "metadata": {},
     "output_type": "execute_result"
    }
   ],
   "source": [
    "highSATschools_nohisp[['SCHOOL NAME','ell_percent']].head()"
   ]
  },
  {
   "cell_type": "markdown",
   "id": "0d0d8f76",
   "metadata": {},
   "source": [
    "These schools have almost non English learners among their students. More of them are science schools which can ask for an entry exam making these students more performant than others.\n",
    "\n",
    "### Exploring Gender and SAT Scores\n",
    "\n",
    "The columns `male_per`and `female_per`indicates the percentage of male/female students."
   ]
  },
  {
   "cell_type": "code",
   "execution_count": 52,
   "id": "a3125632",
   "metadata": {},
   "outputs": [
    {
     "data": {
      "image/png": "[encoded data removed]",
      "text/plain": [
       "<Figure size 432x288 with 1 Axes>"
      ]
     },
     "metadata": {
      "needs_background": "light"
     },
     "output_type": "display_data"
    }
   ],
   "source": [
    "gender_corr = combined.corr()['sat_score'][['male_per','female_per']]\n",
    "\n",
    "gender_corr.plot.bar()\n",
    "plt.show()"
   ]
  },
  {
   "cell_type": "markdown",
   "id": "20e5102c",
   "metadata": {},
   "source": [
    "Women have a better performance in SAT than men if we look to the correlation plot. It is a weak correlation for both."
   ]
  },
  {
   "cell_type": "code",
   "execution_count": 53,
   "id": "266006f7",
   "metadata": {},
   "outputs": [
    {
     "data": {
      "image/png": "[encoded data removed]",
      "text/plain": [
       "<Figure size 432x288 with 1 Axes>"
      ]
     },
     "metadata": {
      "needs_background": "light"
     },
     "output_type": "display_data"
    }
   ],
   "source": [
    "combined.plot.scatter(x='female_per',y='sat_score')\n",
    "plt.show()"
   ]
  },
  {
   "cell_type": "code",
   "execution_count": 54,
   "id": "74d6b5ff",
   "metadata": {},
   "outputs": [
    {
     "data": {
      "text/plain": [
       "5                         BARD HIGH SCHOOL EARLY COLLEGE\n",
       "26                         ELEANOR ROOSEVELT HIGH SCHOOL\n",
       "60                                    BEACON HIGH SCHOOL\n",
       "61     FIORELLO H. LAGUARDIA HIGH SCHOOL OF MUSIC & A...\n",
       "302                          TOWNSEND HARRIS HIGH SCHOOL\n",
       "Name: SCHOOL NAME, dtype: object"
      ]
     },
     "execution_count": 54,
     "metadata": {},
     "output_type": "execute_result"
    }
   ],
   "source": [
    "mask_bool = (combined['sat_score'] > 1700 ) & (combined['female_per'] > 60 )\n",
    "fem_high_score = combined[mask_bool]\n",
    "\n",
    "fem_high_score['SCHOOL NAME'].head()"
   ]
  },
  {
   "cell_type": "markdown",
   "id": "1b69a667",
   "metadata": {},
   "source": [
    "### Exploring AP Scores and SAT Scores"
   ]
  },
  {
   "cell_type": "code",
   "execution_count": 63,
   "id": "dd7c41a8",
   "metadata": {},
   "outputs": [
    {
     "data": {
      "image/png": "[encoded data removed]",
      "text/plain": [
       "<Figure size 432x288 with 1 Axes>"
      ]
     },
     "metadata": {
      "needs_background": "light"
     },
     "output_type": "display_data"
    }
   ],
   "source": [
    "#ap_cols = combined.columns[combined.columns.str.contains('AP')] #AP Test Takers\n",
    "ap_per = 100 * combined['AP Test Takers '] / combined['total_enrollment']\n",
    "plt.scatter(x=ap_per, y=combined['sat_score'])\n",
    "plt.show()"
   ]
  },
  {
   "cell_type": "markdown",
   "id": "0f8a259e",
   "metadata": {},
   "source": [
    "We cannot see a strong correlation between the percentage of AP test takers and the SAT score. Best marks in SAT are in schools with the 50% of students who take the AP test. But schools with more than 80% of students taking the AP test do not show a great performance in SAT tests."
   ]
  }
 ],
 "metadata": {
  "kernelspec": {
   "display_name": "Python 3 (ipykernel)",
   "language": "python",
   "name": "python3"
  },
  "language_info": {
   "codemirror_mode": {
    "name": "ipython",
    "version": 3
   },
   "file_extension": ".py",
   "mimetype": "text/x-python",
   "name": "python",
   "nbconvert_exporter": "python",
   "pygments_lexer": "ipython3",
   "version": "3.9.12"
  }
 },
 "nbformat": 4,
 "nbformat_minor": 5
}
